{
 "cells": [
  {
   "cell_type": "code",
   "execution_count": 5,
   "metadata": {},
   "outputs": [
    {
     "data": {
      "image/png": "[encoded data removed]",
      "text/plain": [
       "<Figure size 640x480 with 1 Axes>"
      ]
     },
     "metadata": {},
     "output_type": "display_data"
    }
   ],
   "source": [
    "from matplotlib import pyplot as plt\n",
    "\n",
    "path='C:/Users/slendeverb/Downloads/MAA-v4.24.0-win-x64/debug/gui.log'\n",
    "\n",
    "with open(path,\"r\",encoding='utf-8') as f:\n",
    "    data=f.readlines()\n",
    "    added_money:dict[int,int]={}\n",
    "    for line in data:\n",
    "        if line.__contains__('已投资 ') and line.__contains__('(+'):\n",
    "            start_pos=line.find('(')\n",
    "            end_pos=line.find(')')\n",
    "            money=int(line[start_pos+len('(+'):end_pos])\n",
    "            if added_money.get(money) is None:\n",
    "                added_money.setdefault(money,1)\n",
    "            else:\n",
    "                added_money[money]+=1\n",
    "\n",
    "key_list:list[int]=[]\n",
    "times_list:list[int]=[]\n",
    "for key,times in added_money.items():\n",
    "    key_list.append(key)\n",
    "    times_list.append(times)\n",
    "\n",
    "plt.figure()\n",
    "plt.bar(key_list,times_list)\n",
    "plt.show()"
   ]
  },
  {
   "cell_type": "code",
   "execution_count": 4,
   "metadata": {},
   "outputs": [
    {
     "name": "stdout",
     "output_type": "stream",
     "text": [
      "2.2.3\n",
      "[[[ 1  2  3  4]\n",
      "  [ 5  6  7  8]\n",
      "  [ 9 10 11 12]]\n",
      "\n",
      " [[13 14 15 16]\n",
      "  [17 18 19 20]\n",
      "  [21 22 23 24]]]\n",
      "[[14 16 18 20]\n",
      " [22 24 26 28]\n",
      " [30 32 34 36]]\n",
      "[[15 18 21 24]\n",
      " [51 54 57 60]]\n",
      "[[10 26 42]\n",
      " [58 74 90]]\n"
     ]
    }
   ],
   "source": [
    "import pandas as pd\n",
    "import numpy as np\n",
    "\n",
    "print(pd.__version__)\n",
    "\n",
    "x=np.array(range(1,25))\n",
    "x=x.reshape((2,3,4))\n",
    "print(x)\n",
    "print(np.sum(x,axis=0))\n",
    "print(np.sum(x,axis=1))\n",
    "print(np.sum(x,axis=2))"
   ]
  },
  {
   "cell_type": "code",
   "execution_count": 2,
   "metadata": {},
   "outputs": [
    {
     "name": "stdout",
     "output_type": "stream",
     "text": [
      "   A  B  C\n",
      "0  1  2  3\n",
      "1  4  5  6\n",
      "A    5\n",
      "B    7\n",
      "C    9\n",
      "dtype: int64\n",
      "0     6\n",
      "1    15\n",
      "dtype: int64\n"
     ]
    }
   ],
   "source": [
    "import pandas as pd\n",
    "\n",
    "df = pd.DataFrame({'A': [1, 4], 'B': [2, 5], 'C': [3, 6]})\n",
    "\n",
    "print(df)\n",
    "\n",
    "# 沿 axis=0 求和（对每列求和）\n",
    "print(df.sum(axis=0))\n",
    "# 输出:\n",
    "# A    5\n",
    "# B    7\n",
    "# C    9\n",
    "\n",
    "# 沿 axis=1 求和（对每行求和）\n",
    "print(df.sum(axis=1))\n",
    "# 输出:\n",
    "# 0     6\n",
    "# 1    15"
   ]
  }
 ],
 "metadata": {
  "kernelspec": {
   "display_name": "Python 3",
   "language": "python",
   "name": "python3"
  },
  "language_info": {
   "codemirror_mode": {
    "name": "ipython",
    "version": 3
   },
   "file_extension": ".py",
   "mimetype": "text/x-python",
   "name": "python",
   "nbconvert_exporter": "python",
   "pygments_lexer": "ipython3",
   "version": "3.11.12"
  }
 },
 "nbformat": 4,
 "nbformat_minor": 2
}
